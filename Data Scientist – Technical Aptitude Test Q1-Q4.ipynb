{
 "cells": [
  {
   "cell_type": "markdown",
   "id": "af162e5d",
   "metadata": {},
   "source": [
    "# Name : Muhammad Fahad Siddiqui\n",
    "# E-Mail : fsiddiqui107@gmail.com"
   ]
  },
  {
   "cell_type": "code",
   "execution_count": null,
   "id": "65b369bb",
   "metadata": {},
   "outputs": [],
   "source": [
    "#importing the dependencies.\n",
    "\n",
    "import pandas as pd\n",
    "import numpy as np"
   ]
  },
  {
   "cell_type": "code",
   "execution_count": null,
   "id": "bca0c772",
   "metadata": {},
   "outputs": [],
   "source": [
    "data = pd.read_csv('data.csv')\n",
    "data.head()"
   ]
  },
  {
   "cell_type": "code",
   "execution_count": null,
   "id": "22d960c0",
   "metadata": {},
   "outputs": [],
   "source": [
    "data.shape"
   ]
  },
  {
   "cell_type": "code",
   "execution_count": null,
   "id": "60156e3f",
   "metadata": {},
   "outputs": [],
   "source": [
    "data.describe()"
   ]
  },
  {
   "cell_type": "code",
   "execution_count": null,
   "id": "579df333",
   "metadata": {},
   "outputs": [],
   "source": [
    "data.info()"
   ]
  },
  {
   "cell_type": "markdown",
   "id": "34cac268",
   "metadata": {},
   "source": [
    "# Q1:"
   ]
  },
  {
   "cell_type": "code",
   "execution_count": null,
   "id": "d051bff6",
   "metadata": {},
   "outputs": [],
   "source": [
    "# For the given data, identify top companies in terms of their spendings. Report only the top 10 companies in an excel file, the tab name should be \"Top Spenders - Companies\"\n",
    "\n",
    "q1 = data.groupby('company').sum().reset_index().drop(\"grps\", axis=1).sort_values('cost').tail(10).iloc[::-1]\n",
    "display(q1)   "
   ]
  },
  {
   "cell_type": "markdown",
   "id": "ca88d8a8",
   "metadata": {},
   "source": [
    "# Q2:"
   ]
  },
  {
   "cell_type": "code",
   "execution_count": null,
   "id": "af4d54ff",
   "metadata": {},
   "outputs": [],
   "source": [
    "# Find all ads that are \"Spot/TVC” and were aired on first and last day of each month, report the resulting rows of data in the same Excel file as question 1, but on a separate tab having the name of \"Month-Wise Beginning Ending Spot TVCs\".\n",
    "\n",
    "def date(val): \n",
    "    if val == \"none\":\n",
    "        return 0\n",
    "    else:\n",
    "        day= str(val).split(\"/\")\n",
    "        return day[1] \n",
    "    \n",
    "data[\"date_of_month\"]= data[\"date\"].apply(date)\n",
    "\n",
    "adtype = data.loc[data['adtype'] == 'Spot/TVC']\n",
    "one = adtype.loc[data['date_of_month']== '1']\n",
    "thirty_one = adtype.loc[data['date_of_month']== '31']\n",
    "\n",
    "frames = [one, thirty_one]\n",
    "q2 = pd.concat(frames)\n",
    "display(q2)\n",
    "\n",
    "with pd.ExcelWriter('output.xlsx', engine='xlsxwriter') as writer:\n",
    "    q1.to_excel(writer, sheet_name='Top Spenders - Companies', index=False)\n",
    "    q2.to_excel(writer, sheet_name='MonthWise BeginnEnd SpotTVCs', index=False)\n",
    "    #I have changed the tab name from \"Month-Wise Beginning Ending Spot TVCs\" to 'MonthWise BeginnEnd SpotTVCs' because pandas cant accpet more than 31 characters in tabname."
   ]
  },
  {
   "cell_type": "markdown",
   "id": "05cc4d45",
   "metadata": {},
   "source": [
    "# Q3:"
   ]
  },
  {
   "cell_type": "code",
   "execution_count": null,
   "id": "762acaee",
   "metadata": {},
   "outputs": [],
   "source": [
    "# Find all ads that were aired between 9PM and 10PM with a threshold of 35 seconds, meaning any ad that aired 35 seconds before or after given range must also be considered. Report the resulting rows of data in the same Excel file as question 1, but on a separate tab having the name of \"LPT Ads\".\n",
    "\n",
    "def time_hour(val):\n",
    "    if val == \"none\":\n",
    "        return 0\n",
    "    else:\n",
    "        hr= str(val).split(\":\")\n",
    "        return hr[0]\n",
    "\n",
    "\n",
    "def time_min(val):\n",
    "    if val == \"none\":\n",
    "        return 0\n",
    "    else:\n",
    "        min= str(val).split(\":\")\n",
    "        return min[1]\n",
    "\n",
    "\n",
    "def time_sec(val):\n",
    "    if val == \"none\":\n",
    "        return 0\n",
    "    else:\n",
    "        sec= str(val).split(\":\")\n",
    "        AM = sec[2]\n",
    "        if AM[-2] != \"A\":\n",
    "            return AM\n",
    "        \n",
    "            \n",
    "      \n",
    "data[\"hour\"]= data[\"time\"].apply(time_hour)    \n",
    "data[\"minute\"]= data[\"time\"].apply(time_min)\n",
    "data[\"second_AM/PM\"]= data[\"time\"].apply(time_sec)\n",
    "\n",
    "hour_eight = data.loc[data['hour'] == '8']\n",
    "hour_nine = data.loc[data['hour'] == '9']\n",
    "hour_ten = data.loc[data['hour'] == '10']\n",
    "\n",
    "min_fiftynine = hour_eight.loc[data['minute'] == '59']\n",
    "min_zerozero = hour_ten.loc[data['minute'] == '00']\n",
    "\n",
    "sec_twenty_six = min_fiftynine.loc[data['second_AM/PM'] == '26 PM']\n",
    "sec_thity_five = min_zerozero.loc[data['second_AM/PM'] == '35 PM']\n",
    "\n",
    "frames2 = [sec_twenty_six, hour_nine,sec_thity_five]\n",
    "q3 = pd.concat(frames2).dropna()\n",
    "display(q3)\n"
   ]
  },
  {
   "cell_type": "markdown",
   "id": "1bb05cc9",
   "metadata": {},
   "source": [
    "# Q4:"
   ]
  },
  {
   "cell_type": "code",
   "execution_count": null,
   "id": "10fccd38",
   "metadata": {},
   "outputs": [],
   "source": [
    "#Find the NGRPs for each month for each brand using the following formula:𝑁𝐺𝑅𝑃𝑠 =𝑔𝑟𝑝𝑠/𝑑𝑢𝑟𝑎𝑡𝑖𝑜𝑛∗ 10 Report the resulting rows of data in the same Excel file as question 1, but on a separate tab having the name of \"Monthly Brand-Wise GRPs\".Note: Aggregated NGRPs are summed.\n",
    "\n",
    "def month(val):\n",
    "    if val == \"none\":\n",
    "        return 0\n",
    "    else:\n",
    "        mon= str(val).split(\"/\")\n",
    "        return mon[0]\n",
    "    \n",
    "data[\"month\"]= data[\"date\"].apply(month)\n",
    "q4 = data.groupby(['brand','month']).sum().reset_index().drop(\"cost\", axis=1).sort_values('month')\n",
    "def NGRPS(val):\n",
    "    if val == \"none\":\n",
    "        return 0\n",
    "    else:\n",
    "        ngrps= (val/9)*10\n",
    "        return ngrps\n",
    "    \n",
    "q4[\"NGRPS\"]= q4[\"grps\"].apply(NGRPS)\n",
    "display(q4)\n"
   ]
  },
  {
   "cell_type": "markdown",
   "id": "7ade4d2d",
   "metadata": {},
   "source": [
    "# Excel file and tabs generation"
   ]
  },
  {
   "cell_type": "code",
   "execution_count": null,
   "id": "4ae43c30",
   "metadata": {},
   "outputs": [],
   "source": [
    "#the output file name will be output.xlsx it will be executed itself once this cell is run.\n",
    "\n",
    "with pd.ExcelWriter('output.xlsx', engine='xlsxwriter') as writer:\n",
    "    q1.to_excel(writer, sheet_name='Top Spenders - Companies')\n",
    "    q2.to_excel(writer, sheet_name='MonthWise BeginnEnd SpotTVCs' )\n",
    "    #I have changed the tab name from \"Month-Wise Beginning Ending Spot TVCs\" to 'MonthWise BeginnEnd SpotTVCs' because pandas cant accpet more than 31 characters in tabname.\n",
    "    q3.to_excel(writer, sheet_name='LPT Ads')\n",
    "    q4.to_excel(writer, sheet_name='Monthly Brand-Wise GRPs')"
   ]
  },
  {
   "cell_type": "code",
   "execution_count": null,
   "id": "0d435874",
   "metadata": {},
   "outputs": [],
   "source": []
  }
 ],
 "metadata": {
  "kernelspec": {
   "display_name": "Python 3 (ipykernel)",
   "language": "python",
   "name": "python3"
  },
  "language_info": {
   "codemirror_mode": {
    "name": "ipython",
    "version": 3
   },
   "file_extension": ".py",
   "mimetype": "text/x-python",
   "name": "python",
   "nbconvert_exporter": "python",
   "pygments_lexer": "ipython3",
   "version": "3.9.7"
  }
 },
 "nbformat": 4,
 "nbformat_minor": 5
}
